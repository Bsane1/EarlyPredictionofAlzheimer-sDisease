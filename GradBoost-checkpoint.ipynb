{
 "cells": [
  {
   "cell_type": "code",
   "execution_count": 5,
   "id": "032b71e7-117e-4916-aa41-9389d4bf1a1f",
   "metadata": {
    "tags": []
   },
   "outputs": [
    {
     "name": "stdout",
     "output_type": "stream",
     "text": [
      "Fitting 5 folds for each of 54 candidates, totalling 270 fits\n",
      "Best Parameters: {'classifier__learning_rate': 0.01, 'classifier__max_depth': 4, 'classifier__n_estimators': 300, 'classifier__subsample': 1.0}\n",
      "Best Score: 0.95\n",
      "Classification Report (Gradient Boosting):\n",
      "              precision    recall  f1-score   support\n",
      "\n",
      "           0       0.95      0.98      0.97       277\n",
      "           1       0.96      0.92      0.94       153\n",
      "\n",
      "    accuracy                           0.96       430\n",
      "   macro avg       0.96      0.95      0.95       430\n",
      "weighted avg       0.96      0.96      0.96       430\n",
      "\n"
     ]
    }
   ],
   "source": [
    "import pandas as pd\n",
    "from sklearn.model_selection import train_test_split, GridSearchCV\n",
    "from sklearn.ensemble import GradientBoostingClassifier\n",
    "from sklearn.pipeline import Pipeline\n",
    "from sklearn.impute import SimpleImputer\n",
    "from sklearn.preprocessing import StandardScaler\n",
    "from sklearn.metrics import classification_report\n",
    "\n",
    "# Load the dataset\n",
    "file_path = \"C:/Users/SANEABHUTTO/Desktop/archive/archive (1)/alzheimers_disease_data.csv\"\n",
    "df = pd.read_csv(file_path)\n",
    "\n",
    "# Fill missing values with mean\n",
    "df = df.fillna(df.mean())\n",
    "\n",
    "# Separate features and target\n",
    "X = df.drop(columns=['PatientID', 'Diagnosis'])\n",
    "y = df['Diagnosis']\n",
    "\n",
    "# Split the data into training and testing sets\n",
    "X_train, X_test, y_train, y_test = train_test_split(X, y, test_size=0.2, random_state=42)\n",
    "\n",
    "# Define the pipeline\n",
    "pipeline_gbc = Pipeline([\n",
    "    ('imputer', SimpleImputer(strategy='mean')),\n",
    "    ('scaler', StandardScaler()),\n",
    "    ('classifier', GradientBoostingClassifier(random_state=42))\n",
    "])\n",
    "\n",
    "# Define hyperparameters grid\n",
    "param_grid_gbc = {\n",
    "    'classifier__n_estimators': [100, 200, 300],\n",
    "    'classifier__max_depth': [3, 4, 5],\n",
    "    'classifier__learning_rate': [0.01, 0.1, 0.2],\n",
    "    'classifier__subsample': [0.8, 1.0],\n",
    "}\n",
    "\n",
    "# Grid search for Gradient Boosting\n",
    "grid_search_gbc = GridSearchCV(estimator=pipeline_gbc, param_grid=param_grid_gbc, cv=5, n_jobs=-1, verbose=2)\n",
    "grid_search_gbc.fit(X_train, y_train)\n",
    "\n",
    "# Best parameters and score for Gradient Boosting\n",
    "best_params_gbc = grid_search_gbc.best_params_\n",
    "print(f'Best Parameters: {best_params_gbc}')\n",
    "print(f'Best Score: {grid_search_gbc.best_score_:.2f}')\n",
    "\n",
    "# Evaluate the tuned model\n",
    "best_gbc_model = grid_search_gbc.best_estimator_\n",
    "y_pred_test_best = best_gbc_model.predict(X_test)\n",
    "\n",
    "print('Classification Report (Gradient Boosting):')\n",
    "print(classification_report(y_test, y_pred_test_best))\n",
    "\n",
    "# Save predictions to a new CSV file\n",
    "df_test = X_test.copy()\n",
    "df_test['True_Diagnosis'] = y_test\n",
    "df_test['Predicted_Diagnosis'] = y_pred_test_best\n",
    "df_test.to_csv('C:/Users/SANEABHUTTO/Desktop/archive/archive (1)/predicted_alzheimers_diagnosis.csv', index=False)\n"
   ]
  },
  {
   "cell_type": "code",
   "execution_count": null,
   "id": "3c81c8e3-e5b7-44db-bc67-471549c04f70",
   "metadata": {},
   "outputs": [],
   "source": []
  }
 ],
 "metadata": {
  "kernelspec": {
   "display_name": "Python 3 (ipykernel)",
   "language": "python",
   "name": "python3"
  },
  "language_info": {
   "codemirror_mode": {
    "name": "ipython",
    "version": 3
   },
   "file_extension": ".py",
   "mimetype": "text/x-python",
   "name": "python",
   "nbconvert_exporter": "python",
   "pygments_lexer": "ipython3",
   "version": "3.11.4"
  }
 },
 "nbformat": 4,
 "nbformat_minor": 5
}
